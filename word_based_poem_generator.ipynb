{
  "nbformat": 4,
  "nbformat_minor": 0,
  "metadata": {
    "colab": {
      "name": "word_based_poem_generator.ipynb",
      "provenance": [],
      "collapsed_sections": []
    },
    "kernelspec": {
      "name": "python3",
      "display_name": "Python 3"
    },
    "accelerator": "GPU"
  },
  "cells": [
    {
      "cell_type": "code",
      "metadata": {
        "id": "LewNMHucLLKZ"
      },
      "source": [
        "from tensorflow.keras.preprocessing.sequence import pad_sequences\n",
        "from tensorflow.keras.layers import Embedding, LSTM, Dense, Dropout, Bidirectional\n",
        "from tensorflow.keras.preprocessing.text import Tokenizer\n",
        "from tensorflow.keras.models import Sequential\n",
        "from tensorflow.keras.optimizers import Adam\n",
        "from tensorflow.keras import regularizers\n",
        "import tensorflow.keras.utils as ku \n",
        "import numpy as np \n",
        "import re"
      ],
      "execution_count": null,
      "outputs": []
    },
    {
      "cell_type": "code",
      "metadata": {
        "id": "Gr55_Q59LY18"
      },
      "source": [
        "tokenizer = Tokenizer()\n",
        "text = open('/content/wil1.txt','rb').read().decode(encoding = 'utf-8')\n",
        "\n",
        "text = re.sub('([0-9]+)','',text)\n",
        "text = text.replace(\"www.PoemHunter.com - The World's Poetry Archive\",\"\")\n",
        "text = text.replace(\"William Wordsworth\",\"\")\n",
        "text = text.strip()\n",
        "text = text.lower()\n",
        "list_void = [\"--\",'.','/','<','>', '{','£','Æ','Ñ','Õ','á','æ','è','ë','í','ö','\\x0c','\\r','\\t']\n",
        "for s in list_void:\n",
        "  text = text.replace(s,\"\")"
      ],
      "execution_count": null,
      "outputs": []
    },
    {
      "cell_type": "code",
      "metadata": {
        "id": "sMgdSXkDMADZ"
      },
      "source": [
        "corpus = text.split('\\n')\n",
        "\n",
        "corpus = corpus[:2000]\n",
        "\n",
        "tokenizer.fit_on_texts(corpus)\n",
        "total_words = len(tokenizer.word_index) + 1"
      ],
      "execution_count": null,
      "outputs": []
    },
    {
      "cell_type": "code",
      "metadata": {
        "id": "JogvpAMFMNdl"
      },
      "source": [
        "input_sequences = []\n",
        "\n",
        "for line in corpus:\n",
        "  token_list = tokenizer.texts_to_sequences([line])[0]\n",
        "  for i in range(1, len(token_list)):\n",
        "    n_gram_seq = token_list[:i+1]\n",
        "    input_sequences.append(n_gram_seq)   "
      ],
      "execution_count": null,
      "outputs": []
    },
    {
      "cell_type": "code",
      "metadata": {
        "id": "UkPQvcxWNKO5"
      },
      "source": [
        "max_seq_len = max([len(t) for t in input_sequences])\n",
        "\n",
        "input_sequences = np.array(pad_sequences(input_sequences, padding='pre',maxlen=max_seq_len))\n",
        "\n",
        "predictors, label = input_sequences[:,:-1], input_sequences[:,-1]\n",
        "\n",
        "label = ku.to_categorical(label, num_classes=total_words)"
      ],
      "execution_count": null,
      "outputs": []
    },
    {
      "cell_type": "code",
      "metadata": {
        "id": "nl3KiueZNOBu",
        "outputId": "f82dec96-b996-4021-e99c-97009764e41b",
        "colab": {
          "base_uri": "https://localhost:8080/",
          "height": 34
        }
      },
      "source": [
        "model = Sequential([\n",
        "             Embedding(total_words,100, input_length=max_seq_len-1),\n",
        "             Bidirectional(LSTM(256, return_sequences=True)),\n",
        "             Dropout(0.2),\n",
        "             LSTM(100),\n",
        "             Dense(total_words, activation = 'relu', kernel_regularizer=regularizers.l2(0.01)),\n",
        "             Dense(total_words/2, activation = 'relu'),\n",
        "             Dense(total_words, activation='softmax')                       \n",
        "])\n",
        "\n",
        "model.compile(loss = 'categorical_crossentropy', optimizer = 'adam', metrics=['acc'])\n",
        "print(model.summary)"
      ],
      "execution_count": null,
      "outputs": [
        {
          "output_type": "stream",
          "text": [
            "<bound method Model.summary of <tensorflow.python.keras.engine.sequential.Sequential object at 0x7fe8f48b2a58>>\n"
          ],
          "name": "stdout"
        }
      ]
    },
    {
      "cell_type": "code",
      "metadata": {
        "id": "QAa71HbuPo2s",
        "outputId": "c8b8e94c-1e56-4b22-b791-1f3df3775ea7",
        "colab": {
          "base_uri": "https://localhost:8080/",
          "height": 1000
        }
      },
      "source": [
        "history = model.fit(predictors, label, epochs=50, verbose=1)"
      ],
      "execution_count": null,
      "outputs": [
        {
          "output_type": "stream",
          "text": [
            "Epoch 1/50\n",
            "327/327 [==============================] - 22s 68ms/step - loss: 7.7150 - acc: 0.0560\n",
            "Epoch 2/50\n",
            "327/327 [==============================] - 22s 68ms/step - loss: 6.9230 - acc: 0.0621\n",
            "Epoch 3/50\n",
            "327/327 [==============================] - 22s 68ms/step - loss: 6.7614 - acc: 0.0621\n",
            "Epoch 4/50\n",
            "327/327 [==============================] - 22s 68ms/step - loss: 6.6004 - acc: 0.0629\n",
            "Epoch 5/50\n",
            "327/327 [==============================] - 22s 68ms/step - loss: 6.4262 - acc: 0.0636\n",
            "Epoch 6/50\n",
            "327/327 [==============================] - 22s 68ms/step - loss: 6.3022 - acc: 0.0633\n",
            "Epoch 7/50\n",
            "327/327 [==============================] - 22s 68ms/step - loss: 6.2005 - acc: 0.0637\n",
            "Epoch 8/50\n",
            "327/327 [==============================] - 22s 68ms/step - loss: 6.0941 - acc: 0.0725\n",
            "Epoch 9/50\n",
            "327/327 [==============================] - 22s 68ms/step - loss: 5.9937 - acc: 0.0753\n",
            "Epoch 10/50\n",
            "327/327 [==============================] - 22s 69ms/step - loss: 5.8943 - acc: 0.0815\n",
            "Epoch 11/50\n",
            "327/327 [==============================] - 22s 69ms/step - loss: 5.7945 - acc: 0.0840\n",
            "Epoch 12/50\n",
            "327/327 [==============================] - 22s 69ms/step - loss: 5.6880 - acc: 0.0903\n",
            "Epoch 13/50\n",
            "327/327 [==============================] - 23s 69ms/step - loss: 5.5662 - acc: 0.0992\n",
            "Epoch 14/50\n",
            "327/327 [==============================] - 23s 70ms/step - loss: 5.4532 - acc: 0.1048\n",
            "Epoch 15/50\n",
            "327/327 [==============================] - 23s 70ms/step - loss: 5.3165 - acc: 0.1148\n",
            "Epoch 16/50\n",
            "327/327 [==============================] - 23s 70ms/step - loss: 5.2050 - acc: 0.1216\n",
            "Epoch 17/50\n",
            "327/327 [==============================] - 23s 70ms/step - loss: 5.0682 - acc: 0.1364\n",
            "Epoch 18/50\n",
            "327/327 [==============================] - 23s 71ms/step - loss: 4.9345 - acc: 0.1383\n",
            "Epoch 19/50\n",
            "327/327 [==============================] - 23s 70ms/step - loss: 4.7994 - acc: 0.1513\n",
            "Epoch 20/50\n",
            "327/327 [==============================] - 23s 70ms/step - loss: 4.6679 - acc: 0.1646\n",
            "Epoch 21/50\n",
            "327/327 [==============================] - 23s 70ms/step - loss: 4.5287 - acc: 0.1770\n",
            "Epoch 22/50\n",
            "327/327 [==============================] - 23s 70ms/step - loss: 4.4111 - acc: 0.1821\n",
            "Epoch 23/50\n",
            "327/327 [==============================] - 23s 70ms/step - loss: 4.2985 - acc: 0.1923\n",
            "Epoch 24/50\n",
            "327/327 [==============================] - 23s 70ms/step - loss: 4.1745 - acc: 0.2036\n",
            "Epoch 25/50\n",
            "327/327 [==============================] - 23s 70ms/step - loss: 4.0510 - acc: 0.2161\n",
            "Epoch 26/50\n",
            "327/327 [==============================] - 23s 70ms/step - loss: 3.9433 - acc: 0.2227\n",
            "Epoch 27/50\n",
            "327/327 [==============================] - 23s 69ms/step - loss: 3.8366 - acc: 0.2314\n",
            "Epoch 28/50\n",
            "327/327 [==============================] - 23s 69ms/step - loss: 3.7292 - acc: 0.2436\n",
            "Epoch 29/50\n",
            "327/327 [==============================] - 23s 69ms/step - loss: 3.6436 - acc: 0.2525\n",
            "Epoch 30/50\n",
            "327/327 [==============================] - 23s 69ms/step - loss: 3.5591 - acc: 0.2619\n",
            "Epoch 31/50\n",
            "327/327 [==============================] - 23s 69ms/step - loss: 3.4807 - acc: 0.2712\n",
            "Epoch 32/50\n",
            "327/327 [==============================] - 23s 70ms/step - loss: 3.3693 - acc: 0.2801\n",
            "Epoch 33/50\n",
            "327/327 [==============================] - 23s 69ms/step - loss: 3.2945 - acc: 0.2879\n",
            "Epoch 34/50\n",
            "327/327 [==============================] - 23s 69ms/step - loss: 3.2214 - acc: 0.2991\n",
            "Epoch 35/50\n",
            "327/327 [==============================] - 23s 69ms/step - loss: 3.1459 - acc: 0.3089\n",
            "Epoch 36/50\n",
            "327/327 [==============================] - 23s 69ms/step - loss: 3.0716 - acc: 0.3130\n",
            "Epoch 37/50\n",
            "327/327 [==============================] - 23s 69ms/step - loss: 3.0150 - acc: 0.3218\n",
            "Epoch 38/50\n",
            "327/327 [==============================] - 23s 70ms/step - loss: 2.9403 - acc: 0.3332\n",
            "Epoch 39/50\n",
            "327/327 [==============================] - 23s 69ms/step - loss: 2.8833 - acc: 0.3458\n",
            "Epoch 40/50\n",
            "327/327 [==============================] - 23s 69ms/step - loss: 2.8087 - acc: 0.3546\n",
            "Epoch 41/50\n",
            "327/327 [==============================] - 23s 69ms/step - loss: 2.7449 - acc: 0.3642\n",
            "Epoch 42/50\n",
            "327/327 [==============================] - 23s 69ms/step - loss: 2.6978 - acc: 0.3713\n",
            "Epoch 43/50\n",
            "327/327 [==============================] - 23s 69ms/step - loss: 2.6528 - acc: 0.3769\n",
            "Epoch 44/50\n",
            "327/327 [==============================] - 23s 69ms/step - loss: 2.5869 - acc: 0.3896\n",
            "Epoch 45/50\n",
            "327/327 [==============================] - 23s 70ms/step - loss: 2.5340 - acc: 0.3992\n",
            "Epoch 46/50\n",
            "327/327 [==============================] - 23s 70ms/step - loss: 2.4959 - acc: 0.4097\n",
            "Epoch 47/50\n",
            "327/327 [==============================] - 23s 70ms/step - loss: 2.4440 - acc: 0.4169\n",
            "Epoch 48/50\n",
            "327/327 [==============================] - 23s 69ms/step - loss: 2.3922 - acc: 0.4256\n",
            "Epoch 49/50\n",
            "327/327 [==============================] - 23s 69ms/step - loss: 2.3355 - acc: 0.4386\n",
            "Epoch 50/50\n",
            "327/327 [==============================] - 23s 69ms/step - loss: 2.2981 - acc: 0.4409\n"
          ],
          "name": "stdout"
        }
      ]
    },
    {
      "cell_type": "code",
      "metadata": {
        "id": "1fXTEO3GJ282",
        "outputId": "3f800884-d568-4309-ce9f-2e0cf67ed955",
        "colab": {
          "base_uri": "https://localhost:8080/",
          "height": 545
        }
      },
      "source": [
        "import matplotlib.pyplot as plt\n",
        "acc = history.history['acc']\n",
        "loss = history.history['loss']\n",
        "\n",
        "epochs = range(len(acc))\n",
        "\n",
        "plt.plot(epochs, acc, 'b', label='Training accuracy')\n",
        "plt.title('Training accuracy')\n",
        "\n",
        "plt.figure()\n",
        "\n",
        "plt.plot(epochs, loss, 'b', label='Training Loss')\n",
        "plt.title('Training loss')\n",
        "plt.legend()\n",
        "\n",
        "plt.show()"
      ],
      "execution_count": null,
      "outputs": [
        {
          "output_type": "display_data",
          "data": {
            "image/png": "[encoded data removed]",
            "text/plain": [
              "<Figure size 432x288 with 1 Axes>"
            ]
          },
          "metadata": {
            "tags": [],
            "needs_background": "light"
          }
        },
        {
          "output_type": "display_data",
          "data": {
            "image/png": "[encoded data removed]",
            "text/plain": [
              "<Figure size 432x288 with 1 Axes>"
            ]
          },
          "metadata": {
            "tags": [],
            "needs_background": "light"
          }
        }
      ]
    },
    {
      "cell_type": "code",
      "metadata": {
        "id": "hBkQgyfqWT0r",
        "outputId": "75567a55-2fb6-49b1-c0a0-2b63ea8464df",
        "colab": {
          "base_uri": "https://localhost:8080/",
          "height": 34
        }
      },
      "source": [
        "seed_text = \"Girl so beautiful\"\n",
        "next_words = 10\n",
        "\n",
        "for _ in range(next_words):\n",
        "\ttoken_list = tokenizer.texts_to_sequences([seed_text])[0]\n",
        "\ttoken_list = pad_sequences([token_list], maxlen=max_seq_len-1, padding='pre')\n",
        "\tpredicted = model.predict_classes(token_list, verbose=0)\n",
        "\toutput_word = \"\"\n",
        "\tfor word, index in tokenizer.word_index.items():\n",
        "\t\tif index == predicted:\n",
        "\t\t\toutput_word = word\n",
        "\t\t\tbreak\n",
        "\tseed_text += \" \" + output_word\n",
        "print(seed_text)"
      ],
      "execution_count": null,
      "outputs": [
        {
          "output_type": "stream",
          "text": [
            "Girl so beautiful known foul are primroses the steep tread and years beguiled\n"
          ],
          "name": "stdout"
        }
      ]
    },
    {
      "cell_type": "code",
      "metadata": {
        "id": "3CdGIWeqWzUn"
      },
      "source": [
        ""
      ],
      "execution_count": null,
      "outputs": []
    }
  ]
}